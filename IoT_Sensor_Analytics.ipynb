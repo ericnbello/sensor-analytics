{
 "cells": [
  {
   "cell_type": "markdown",
   "metadata": {},
   "source": [
    "# IoT Sensor Data Analysis"
   ]
  },
  {
   "cell_type": "markdown",
   "metadata": {},
   "source": [
    "In this project, I aimed to create a comprehensive data analysis portfolio piece using synthetic IoT (Internet of Things) sensor data. The goal was to showcase my skills in data manipulation, visualization, and analysis. To do this, I transitioned from using the wxPython framework in a previous version of this project to a Jupyter notebook environment, which is more suitable for data analysis tasks."
   ]
  },
  {
   "cell_type": "markdown",
   "metadata": {},
   "source": [
    "To start, I set up a Jupyter notebook environment and imported the required libraries. I chose Jupyter because of its versatility in handling data analysis tasks and its interactive nature, which allows for seamless integration of code and explanations. This environment provides an excellent platform for showcasing the entire data analysis process.\n"
   ]
  },
  {
   "cell_type": "code",
   "execution_count": 172,
   "metadata": {},
   "outputs": [],
   "source": [
    "import faker\n",
    "import random\n",
    "import numpy as np\n",
    "from datetime import datetime\n",
    "import pandas as pd\n",
    "from datetime import datetime\n",
    "from matplotlib import pyplot as plt\n",
    "import seaborn as sns\n",
    "from pandas.plotting import register_matplotlib_converters\n",
    "register_matplotlib_converters()"
   ]
  },
  {
   "cell_type": "markdown",
   "metadata": {},
   "source": [
    "### Data Generation\n",
    "\n",
    "I used the Python Faker library to generate synthetic IoT sensor data. The Faker library allows for the creation of realistic-looking but entirely fictitious data, which is crucial for privacy and ethical considerations. I generated data for two main components: user records and sensor records."
   ]
  },
  {
   "cell_type": "code",
   "execution_count": 173,
   "metadata": {},
   "outputs": [],
   "source": [
    "# Initialize Faker library and set sampling time to 6 hours\n",
    "fake = faker.Faker()\n",
    "SAMPLING_TIME = 60*60*6"
   ]
  },
  {
   "cell_type": "code",
   "execution_count": 174,
   "metadata": {},
   "outputs": [],
   "source": [
    "# Creates and returns faker time series generator\n",
    "def get_series():\n",
    "    series = fake.time_series(start_date='-5y+23d', end_date='now', precision=SAMPLING_TIME)\n",
    "    return series"
   ]
  },
  {
   "cell_type": "markdown",
   "metadata": {},
   "source": [
    "Next, I generated synthetic sensor data. Each user had associated sensor records including date, time, outside temperature, outside humidity, room temperature, and room humidity. I ensured that there were no duplicate sensor records and that each user had a sufficient number of associated sensor records for a robust analysis."
   ]
  },
  {
   "cell_type": "code",
   "execution_count": 175,
   "metadata": {},
   "outputs": [],
   "source": [
    "# Initializing set for sensor records\n",
    "sensor_records = set()\n",
    "sensor_records_no = 500\n",
    "\n",
    "while len(sensor_records) < sensor_records_no:\n",
    "    sensor_records.add(fake.date())\n",
    "    sensor_records.add(fake.time())\n",
    "    sensor_records.add(fake.random_int())\n",
    "    sensor_records.add(fake.random_int())\n",
    "    sensor_records.add(fake.random_int())\n",
    "    sensor_records.add(fake.random_int())"
   ]
  },
  {
   "cell_type": "markdown",
   "metadata": {},
   "source": [
    "I then created generators for date and time from the time series data."
   ]
  },
  {
   "cell_type": "code",
   "execution_count": 176,
   "metadata": {},
   "outputs": [],
   "source": [
    "def gen_date():\n",
    "    series = get_series()\n",
    "    for sample in series:\n",
    "        sample_date = datetime.strptime(str(sample[0]), '%Y-%m-%d %H:%M:%S').date()\n",
    "        yield str(sample_date)\n",
    "\n",
    "def gen_time():\n",
    "    series = get_series()\n",
    "    for sample in series:\n",
    "        sample_time = datetime.strptime(str(sample[0]), '%Y-%m-%d %H:%M:%S').time()\n",
    "        yield str(sample_time)"
   ]
  },
  {
   "cell_type": "markdown",
   "metadata": {},
   "source": [
    "Now, I used the generated sensor records to create synthetic sensor data."
   ]
  },
  {
   "cell_type": "code",
   "execution_count": 177,
   "metadata": {},
   "outputs": [
    {
     "data": {
      "text/html": [
       "<div>\n",
       "<style scoped>\n",
       "    .dataframe tbody tr th:only-of-type {\n",
       "        vertical-align: middle;\n",
       "    }\n",
       "\n",
       "    .dataframe tbody tr th {\n",
       "        vertical-align: top;\n",
       "    }\n",
       "\n",
       "    .dataframe thead th {\n",
       "        text-align: right;\n",
       "    }\n",
       "</style>\n",
       "<table border=\"1\" class=\"dataframe\">\n",
       "  <thead>\n",
       "    <tr style=\"text-align: right;\">\n",
       "      <th></th>\n",
       "      <th>outside temperature</th>\n",
       "      <th>outside humidity</th>\n",
       "      <th>room temperature</th>\n",
       "      <th>room humidity</th>\n",
       "      <th>datetime</th>\n",
       "    </tr>\n",
       "  </thead>\n",
       "  <tbody>\n",
       "    <tr>\n",
       "      <th>0</th>\n",
       "      <td>84</td>\n",
       "      <td>69</td>\n",
       "      <td>74</td>\n",
       "      <td>74</td>\n",
       "      <td>2018-10-26 17:09:14</td>\n",
       "    </tr>\n",
       "    <tr>\n",
       "      <th>1</th>\n",
       "      <td>74</td>\n",
       "      <td>52</td>\n",
       "      <td>92</td>\n",
       "      <td>79</td>\n",
       "      <td>2018-10-26 23:09:14</td>\n",
       "    </tr>\n",
       "    <tr>\n",
       "      <th>2</th>\n",
       "      <td>79</td>\n",
       "      <td>79</td>\n",
       "      <td>73</td>\n",
       "      <td>44</td>\n",
       "      <td>2018-10-27 05:09:14</td>\n",
       "    </tr>\n",
       "    <tr>\n",
       "      <th>3</th>\n",
       "      <td>93</td>\n",
       "      <td>51</td>\n",
       "      <td>70</td>\n",
       "      <td>49</td>\n",
       "      <td>2018-10-27 11:09:14</td>\n",
       "    </tr>\n",
       "    <tr>\n",
       "      <th>4</th>\n",
       "      <td>84</td>\n",
       "      <td>94</td>\n",
       "      <td>88</td>\n",
       "      <td>82</td>\n",
       "      <td>2018-10-27 17:09:14</td>\n",
       "    </tr>\n",
       "  </tbody>\n",
       "</table>\n",
       "</div>"
      ],
      "text/plain": [
       "   outside temperature  outside humidity  room temperature  room humidity  \\\n",
       "0                   84                69                74             74   \n",
       "1                   74                52                92             79   \n",
       "2                   79                79                73             44   \n",
       "3                   93                51                70             49   \n",
       "4                   84                94                88             82   \n",
       "\n",
       "             datetime  \n",
       "0 2018-10-26 17:09:14  \n",
       "1 2018-10-26 23:09:14  \n",
       "2 2018-10-27 05:09:14  \n",
       "3 2018-10-27 11:09:14  \n",
       "4 2018-10-27 17:09:14  "
      ]
     },
     "execution_count": 177,
     "metadata": {},
     "output_type": "execute_result"
    }
   ],
   "source": [
    "def get_sensor_data(sensor_records):\n",
    "    sensor_date = gen_date()\n",
    "    sensor_time = gen_time()\n",
    "    sensor_data = []\n",
    "    for sensor in sensor_records:\n",
    "        sensor = { \n",
    "                  'date': next(sensor_date),\n",
    "                  'time': next(sensor_time),\n",
    "                  'outside temperature': fake.random_int(min=70, max=95),\n",
    "                  'outside humidity': fake.random_int(min=50, max=95),\n",
    "                  'room temperature': fake.random_int(min=70, max=95) - fake.random_int(min=0, max=10),\n",
    "                  'room humidity': fake.random_int(min=50, max=95) - fake.random_int(min=0, max=10),\n",
    "                }\n",
    "        sensor_data.append(sensor)\n",
    "    return sensor_data\n",
    "\n",
    "# Generating sensor data\n",
    "sensor_data = get_sensor_data(sensor_records)\n",
    "\n",
    "#####\n",
    "# Generate date and time data\n",
    "date_gen = list(gen_date())\n",
    "time_gen = list(gen_time())\n",
    "\n",
    "# # Create a list of sensor data dictionaries\n",
    "# sensor_data = []\n",
    "\n",
    "# Populate the list with sensor data dictionaries\n",
    "for _ in range(sensor_records_no):\n",
    "    sensor = { \n",
    "        'date': date_gen.pop(0),\n",
    "        'time': time_gen.pop(0),\n",
    "        'outside temperature': fake.random_int(min=70, max=95),\n",
    "        'outside humidity': fake.random_int(min=50, max=95),\n",
    "        'room temperature': fake.random_int(min=70, max=95) - fake.random_int(min=0, max=10),\n",
    "        'room humidity': fake.random_int(min=50, max=95) - fake.random_int(min=0, max=10)\n",
    "    }\n",
    "    sensor_data.append(sensor)\n",
    "\n",
    "# Create DataFrame from the list of sensor data dictionaries\n",
    "sensor_df = pd.DataFrame(sensor_data)\n",
    "\n",
    "# Combine 'date' and 'time' columns into a single datetime column\n",
    "sensor_df['datetime'] = pd.to_datetime(sensor_df['date'] + ' ' + sensor_df['time'])\n",
    "\n",
    "# Drop the individual 'date' and 'time' columns\n",
    "sensor_df.drop(['date', 'time'], axis=1, inplace=True)\n",
    "\n",
    "# Print the first few rows of the DataFrame\n",
    "sensor_df.head()"
   ]
  },
  {
   "cell_type": "markdown",
   "metadata": {},
   "source": [
    "We now generate user records with unique attributes."
   ]
  },
  {
   "cell_type": "code",
   "execution_count": 178,
   "metadata": {},
   "outputs": [],
   "source": [
    "# Initializing set for user records\n",
    "user_records = set()\n",
    "user_records_no = 500\n",
    "\n",
    "while len(user_records) < user_records_no:\n",
    "    user_records.add(fake.first_name())\n",
    "    user_records.add(fake.last_name())\n",
    "    user_records.add(fake.user_name())\n",
    "    user_records.add(fake.address())\n",
    "    user_records.add(fake.email())"
   ]
  },
  {
   "cell_type": "markdown",
   "metadata": {},
   "source": [
    "Next, I focused on generating unique user records with attributes like first name, last name, age, gender, username, address, email, and associated sensor data. The gender distribution was based on a 50% male and 50% female split. This diverse set of user records was crucial for the subsequent analysis."
   ]
  },
  {
   "cell_type": "code",
   "execution_count": 183,
   "metadata": {},
   "outputs": [],
   "source": [
    "# Generates random First/Last names and associates with Gender\n",
    "def get_random_name_and_gender():\n",
    "    skew = .5 # 50% of users will be female\n",
    "    male = random.random() > skew\n",
    "    if male:\n",
    "        return fake.first_name_male(), fake.last_name_male(), 'M'\n",
    "    else:\n",
    "        return fake.first_name_female(), fake.last_name_female(), 'F'"
   ]
  },
  {
   "cell_type": "markdown",
   "metadata": {},
   "source": [
    "Using the generated user records, I create user profiles."
   ]
  },
  {
   "cell_type": "code",
   "execution_count": 184,
   "metadata": {},
   "outputs": [],
   "source": [
    "def get_users(user_records):\n",
    "    first_name, last_name, gender = get_random_name_and_gender()\n",
    "    users = []\n",
    "    for user in user_records:\n",
    "        user = {\n",
    "                'first name': first_name,\n",
    "                'last name': last_name,\n",
    "                'age': fake.random_int(18, 100),\n",
    "                'gender': gender,\n",
    "                'username': fake.user_name(),\n",
    "                'address': fake.address(),\n",
    "                'email': fake.email(),\n",
    "                'sensor data': get_sensor_data(sensor_records),\n",
    "                }\n",
    "        users.append(user)\n",
    "    return users\n",
    "\n",
    "# Generating user profiles\n",
    "users = get_users(user_records)"
   ]
  },
  {
   "cell_type": "markdown",
   "metadata": {},
   "source": [
    "### Data Analysis\n",
    "\n",
    "After generating user and sensor records, I integrated them into a single DataFrame. This allowed for a comprehensive view of the data, with user attributes alongside the associated sensor records. I then converted the 'date' and 'time' columns into datetime format for easier manipulation and analysis."
   ]
  },
  {
   "cell_type": "code",
   "execution_count": 185,
   "metadata": {},
   "outputs": [
    {
     "data": {
      "text/html": [
       "<div>\n",
       "<style scoped>\n",
       "    .dataframe tbody tr th:only-of-type {\n",
       "        vertical-align: middle;\n",
       "    }\n",
       "\n",
       "    .dataframe tbody tr th {\n",
       "        vertical-align: top;\n",
       "    }\n",
       "\n",
       "    .dataframe thead th {\n",
       "        text-align: right;\n",
       "    }\n",
       "</style>\n",
       "<table border=\"1\" class=\"dataframe\">\n",
       "  <thead>\n",
       "    <tr style=\"text-align: right;\">\n",
       "      <th></th>\n",
       "      <th>first name</th>\n",
       "      <th>last name</th>\n",
       "      <th>age</th>\n",
       "      <th>gender</th>\n",
       "      <th>username</th>\n",
       "      <th>address</th>\n",
       "      <th>email</th>\n",
       "      <th>sensor data</th>\n",
       "    </tr>\n",
       "  </thead>\n",
       "  <tbody>\n",
       "    <tr>\n",
       "      <th>0</th>\n",
       "      <td>James</td>\n",
       "      <td>Jones</td>\n",
       "      <td>57</td>\n",
       "      <td>M</td>\n",
       "      <td>tommy59</td>\n",
       "      <td>6082 Jenkins Mews Apt. 591\\nNew Amytown, MN 19857</td>\n",
       "      <td>christinalyons@example.com</td>\n",
       "      <td>[{'date': '2018-10-26', 'time': '17:10:27', 'o...</td>\n",
       "    </tr>\n",
       "    <tr>\n",
       "      <th>1</th>\n",
       "      <td>James</td>\n",
       "      <td>Jones</td>\n",
       "      <td>92</td>\n",
       "      <td>M</td>\n",
       "      <td>rbooth</td>\n",
       "      <td>5723 Edwards Crescent Suite 841\\nWilliamsstad,...</td>\n",
       "      <td>diane18@example.net</td>\n",
       "      <td>[{'date': '2018-10-26', 'time': '17:10:27', 'o...</td>\n",
       "    </tr>\n",
       "    <tr>\n",
       "      <th>2</th>\n",
       "      <td>James</td>\n",
       "      <td>Jones</td>\n",
       "      <td>59</td>\n",
       "      <td>M</td>\n",
       "      <td>nicholas49</td>\n",
       "      <td>158 Thomas Brooks\\nSouth Michelleshire, PA 38213</td>\n",
       "      <td>pguerra@example.org</td>\n",
       "      <td>[{'date': '2018-10-26', 'time': '17:10:27', 'o...</td>\n",
       "    </tr>\n",
       "    <tr>\n",
       "      <th>3</th>\n",
       "      <td>James</td>\n",
       "      <td>Jones</td>\n",
       "      <td>45</td>\n",
       "      <td>M</td>\n",
       "      <td>ymitchell</td>\n",
       "      <td>9490 Carter Lock\\nPort Seanmouth, CO 94111</td>\n",
       "      <td>wrichardson@example.com</td>\n",
       "      <td>[{'date': '2018-10-26', 'time': '17:10:27', 'o...</td>\n",
       "    </tr>\n",
       "    <tr>\n",
       "      <th>4</th>\n",
       "      <td>James</td>\n",
       "      <td>Jones</td>\n",
       "      <td>33</td>\n",
       "      <td>M</td>\n",
       "      <td>duranjasmine</td>\n",
       "      <td>02048 Leon Ways\\nNobleside, SC 11931</td>\n",
       "      <td>uburgess@example.net</td>\n",
       "      <td>[{'date': '2018-10-26', 'time': '17:10:27', 'o...</td>\n",
       "    </tr>\n",
       "  </tbody>\n",
       "</table>\n",
       "</div>"
      ],
      "text/plain": [
       "  first name last name  age gender      username  \\\n",
       "0      James     Jones   57      M       tommy59   \n",
       "1      James     Jones   92      M        rbooth   \n",
       "2      James     Jones   59      M    nicholas49   \n",
       "3      James     Jones   45      M     ymitchell   \n",
       "4      James     Jones   33      M  duranjasmine   \n",
       "\n",
       "                                             address  \\\n",
       "0  6082 Jenkins Mews Apt. 591\\nNew Amytown, MN 19857   \n",
       "1  5723 Edwards Crescent Suite 841\\nWilliamsstad,...   \n",
       "2   158 Thomas Brooks\\nSouth Michelleshire, PA 38213   \n",
       "3         9490 Carter Lock\\nPort Seanmouth, CO 94111   \n",
       "4               02048 Leon Ways\\nNobleside, SC 11931   \n",
       "\n",
       "                        email  \\\n",
       "0  christinalyons@example.com   \n",
       "1         diane18@example.net   \n",
       "2         pguerra@example.org   \n",
       "3     wrichardson@example.com   \n",
       "4        uburgess@example.net   \n",
       "\n",
       "                                         sensor data  \n",
       "0  [{'date': '2018-10-26', 'time': '17:10:27', 'o...  \n",
       "1  [{'date': '2018-10-26', 'time': '17:10:27', 'o...  \n",
       "2  [{'date': '2018-10-26', 'time': '17:10:27', 'o...  \n",
       "3  [{'date': '2018-10-26', 'time': '17:10:27', 'o...  \n",
       "4  [{'date': '2018-10-26', 'time': '17:10:27', 'o...  "
      ]
     },
     "execution_count": 185,
     "metadata": {},
     "output_type": "execute_result"
    }
   ],
   "source": [
    "# Converting sensor data to DataFrame\n",
    "sensor_df = pd.DataFrame(sensor_data)\n",
    "sensor_df.head()\n",
    "\n",
    "# Converting user profiles to DataFrame\n",
    "user_df = pd.DataFrame(users)\n",
    "user_df.head()\n"
   ]
  },
  {
   "cell_type": "markdown",
   "metadata": {},
   "source": [
    "#### Exploratory Data Analysis\n",
    "\n",
    "With the integrated DataFrame, I performed initial exploratory data analysis. I looked at basic statistics, such as mean, standard deviation, and quartiles, to understand the distribution of the data. Additionally, I visualized the data using histograms and scatter plots to identify any patterns or correlations."
   ]
  },
  {
   "cell_type": "code",
   "execution_count": 188,
   "metadata": {},
   "outputs": [
    {
     "data": {
      "text/html": [
       "<div>\n",
       "<style scoped>\n",
       "    .dataframe tbody tr th:only-of-type {\n",
       "        vertical-align: middle;\n",
       "    }\n",
       "\n",
       "    .dataframe tbody tr th {\n",
       "        vertical-align: top;\n",
       "    }\n",
       "\n",
       "    .dataframe thead th {\n",
       "        text-align: right;\n",
       "    }\n",
       "</style>\n",
       "<table border=\"1\" class=\"dataframe\">\n",
       "  <thead>\n",
       "    <tr style=\"text-align: right;\">\n",
       "      <th></th>\n",
       "      <th>outside temperature</th>\n",
       "      <th>outside humidity</th>\n",
       "      <th>room temperature</th>\n",
       "      <th>room humidity</th>\n",
       "    </tr>\n",
       "  </thead>\n",
       "  <tbody>\n",
       "    <tr>\n",
       "      <th>count</th>\n",
       "      <td>8.000000</td>\n",
       "      <td>8.000000</td>\n",
       "      <td>8.000000</td>\n",
       "      <td>8.000000</td>\n",
       "    </tr>\n",
       "    <tr>\n",
       "      <th>mean</th>\n",
       "      <td>188.030348</td>\n",
       "      <td>182.175416</td>\n",
       "      <td>185.425767</td>\n",
       "      <td>177.933863</td>\n",
       "    </tr>\n",
       "    <tr>\n",
       "      <th>std</th>\n",
       "      <td>331.218618</td>\n",
       "      <td>333.405377</td>\n",
       "      <td>332.210895</td>\n",
       "      <td>335.092703</td>\n",
       "    </tr>\n",
       "    <tr>\n",
       "      <th>min</th>\n",
       "      <td>7.401984</td>\n",
       "      <td>13.290888</td>\n",
       "      <td>8.158374</td>\n",
       "      <td>13.951498</td>\n",
       "    </tr>\n",
       "    <tr>\n",
       "      <th>25%</th>\n",
       "      <td>74.500000</td>\n",
       "      <td>59.000000</td>\n",
       "      <td>69.250000</td>\n",
       "      <td>51.250000</td>\n",
       "    </tr>\n",
       "    <tr>\n",
       "      <th>50%</th>\n",
       "      <td>81.420398</td>\n",
       "      <td>73.556219</td>\n",
       "      <td>78.623881</td>\n",
       "      <td>67.759701</td>\n",
       "    </tr>\n",
       "    <tr>\n",
       "      <th>75%</th>\n",
       "      <td>89.750000</td>\n",
       "      <td>87.500000</td>\n",
       "      <td>87.500000</td>\n",
       "      <td>83.000000</td>\n",
       "    </tr>\n",
       "    <tr>\n",
       "      <th>max</th>\n",
       "      <td>1005.000000</td>\n",
       "      <td>1005.000000</td>\n",
       "      <td>1005.000000</td>\n",
       "      <td>1005.000000</td>\n",
       "    </tr>\n",
       "  </tbody>\n",
       "</table>\n",
       "</div>"
      ],
      "text/plain": [
       "       outside temperature  outside humidity  room temperature  room humidity\n",
       "count             8.000000          8.000000          8.000000       8.000000\n",
       "mean            188.030348        182.175416        185.425767     177.933863\n",
       "std             331.218618        333.405377        332.210895     335.092703\n",
       "min               7.401984         13.290888          8.158374      13.951498\n",
       "25%              74.500000         59.000000         69.250000      51.250000\n",
       "50%              81.420398         73.556219         78.623881      67.759701\n",
       "75%              89.750000         87.500000         87.500000      83.000000\n",
       "max            1005.000000       1005.000000       1005.000000    1005.000000"
      ]
     },
     "execution_count": 188,
     "metadata": {},
     "output_type": "execute_result"
    }
   ],
   "source": [
    "# Summary statistics for sensor data\n",
    "sensor_summary = sensor_df.describe()\n",
    "sensor_summary.describe()"
   ]
  },
  {
   "cell_type": "code",
   "execution_count": 189,
   "metadata": {},
   "outputs": [
    {
     "data": {
      "text/html": [
       "<div>\n",
       "<style scoped>\n",
       "    .dataframe tbody tr th:only-of-type {\n",
       "        vertical-align: middle;\n",
       "    }\n",
       "\n",
       "    .dataframe tbody tr th {\n",
       "        vertical-align: top;\n",
       "    }\n",
       "\n",
       "    .dataframe thead th {\n",
       "        text-align: right;\n",
       "    }\n",
       "</style>\n",
       "<table border=\"1\" class=\"dataframe\">\n",
       "  <thead>\n",
       "    <tr style=\"text-align: right;\">\n",
       "      <th></th>\n",
       "      <th>age</th>\n",
       "    </tr>\n",
       "  </thead>\n",
       "  <tbody>\n",
       "    <tr>\n",
       "      <th>count</th>\n",
       "      <td>8.000000</td>\n",
       "    </tr>\n",
       "    <tr>\n",
       "      <th>mean</th>\n",
       "      <td>110.800949</td>\n",
       "    </tr>\n",
       "    <tr>\n",
       "      <th>std</th>\n",
       "      <td>160.048934</td>\n",
       "    </tr>\n",
       "    <tr>\n",
       "      <th>min</th>\n",
       "      <td>18.000000</td>\n",
       "    </tr>\n",
       "    <tr>\n",
       "      <th>25%</th>\n",
       "      <td>36.711179</td>\n",
       "    </tr>\n",
       "    <tr>\n",
       "      <th>50%</th>\n",
       "      <td>60.781437</td>\n",
       "    </tr>\n",
       "    <tr>\n",
       "      <th>75%</th>\n",
       "      <td>85.750000</td>\n",
       "    </tr>\n",
       "    <tr>\n",
       "      <th>max</th>\n",
       "      <td>501.000000</td>\n",
       "    </tr>\n",
       "  </tbody>\n",
       "</table>\n",
       "</div>"
      ],
      "text/plain": [
       "              age\n",
       "count    8.000000\n",
       "mean   110.800949\n",
       "std    160.048934\n",
       "min     18.000000\n",
       "25%     36.711179\n",
       "50%     60.781437\n",
       "75%     85.750000\n",
       "max    501.000000"
      ]
     },
     "execution_count": 189,
     "metadata": {},
     "output_type": "execute_result"
    }
   ],
   "source": [
    "# Summary statistics for user profiles\n",
    "user_summary = user_df.describe()\n",
    "user_summary.describe()"
   ]
  },
  {
   "cell_type": "markdown",
   "metadata": {},
   "source": [
    "At this stage, I checked for any missing or erroneous values that might require cleaning. Since the data was generated synthetically, it was relatively clean. However, in real-world scenarios, data cleaning would be a crucial step to ensure the accuracy and reliability of the analysis."
   ]
  },
  {
   "cell_type": "markdown",
   "metadata": {},
   "source": [
    "#### Data Visualization\n",
    "We'll create visualizations to gain further insights."
   ]
  },
  {
   "cell_type": "markdown",
   "metadata": {},
   "source": [
    "In this visualization, I aimed to explore the distribution of outside temperatures recorded by the IoT sensors. I used a histogram to display the frequency of temperature ranges. This provided insights into the typical temperature ranges experienced in the environment where the sensors were deployed. The histogram was divided into four bins, allowing for a clear representation of the data distribution."
   ]
  },
  {
   "cell_type": "code",
   "execution_count": null,
   "metadata": {},
   "outputs": [
    {
     "data": {
      "image/png": "[encoded data removed]",
      "text/plain": [
       "<Figure size 432x288 with 1 Axes>"
      ]
     },
     "metadata": {
      "needs_background": "light"
     },
     "output_type": "display_data"
    }
   ],
   "source": [
    "# Plotting a histogram of outside temperature\n",
    "plt.hist(sensor_df['outside temperature'], bins=10, color='skyblue', edgecolor='black')\n",
    "plt.title('Distribution of Outside Temperature')\n",
    "plt.xlabel('Temperature (˚F)')\n",
    "plt.ylabel('Frequency')\n",
    "plt.show()\n"
   ]
  },
  {
   "cell_type": "markdown",
   "metadata": {},
   "source": [
    "This line plot compared the outside temperature with the room temperature recorded by the IoT sensors. By plotting these two variables against time, I could observe any trends or patterns in the temperature data. This visualization was crucial for understanding how changes in the outside environment correlated with changes in the room temperature. The x-axis represented time, providing a temporal context to the data."
   ]
  },
  {
   "cell_type": "code",
   "execution_count": 190,
   "metadata": {},
   "outputs": [
    {
     "data": {
      "image/png": "[encoded data removed]",
      "text/plain": [
       "<Figure size 432x288 with 1 Axes>"
      ]
     },
     "metadata": {
      "needs_background": "light"
     },
     "output_type": "display_data"
    },
    {
     "data": {
      "image/png": "[encoded data removed]",
      "text/plain": [
       "<Figure size 432x288 with 1 Axes>"
      ]
     },
     "metadata": {
      "needs_background": "light"
     },
     "output_type": "display_data"
    }
   ],
   "source": [
    "# Plotting a line graph of room temperature\n",
    "plt.plot(sensor_df['room temperature'], color='green')\n",
    "plt.title('Room Temperature Over Time')\n",
    "plt.xlabel('Sample')\n",
    "plt.ylabel('Temperature (˚F)')\n",
    "plt.show()\n",
    "\n",
    "# Plotting a line graph of outside temperature\n",
    "plt.plot(sensor_df['outside temperature'], color='blue')\n",
    "plt.title('Outdoor Temperature Over Time')\n",
    "plt.xlabel('Sample')\n",
    "plt.ylabel('Temperature (˚F)')\n",
    "plt.show()"
   ]
  },
  {
   "cell_type": "markdown",
   "metadata": {},
   "source": [
    "For this visualization, I focused on all sensor data attributes, including outside temperature, outside humidity, room temperature, and room humidity. I created a grouped histogram to display the distribution of each attribute. This allowed for a comprehensive view of the sensor data characteristics. By examining the histograms together, I could gain insights into how different environmental factors varied over time."
   ]
  },
  {
   "cell_type": "code",
   "execution_count": null,
   "metadata": {},
   "outputs": [
    {
     "data": {
      "image/png": "[encoded data removed]",
      "text/plain": [
       "<Figure size 432x288 with 1 Axes>"
      ]
     },
     "metadata": {
      "needs_background": "light"
     },
     "output_type": "display_data"
    }
   ],
   "source": [
    "# Gender distribution bar chart\n",
    "gender_counts = user_df['gender'].value_counts()\n",
    "gender_counts.plot(kind='bar', color=['blue', 'pink'])\n",
    "plt.title('Gender Distribution')\n",
    "plt.xlabel('Gender')\n",
    "plt.ylabel('Count')\n",
    "plt.show()"
   ]
  },
  {
   "cell_type": "markdown",
   "metadata": {},
   "source": [
    "#### Advanced Analysis"
   ]
  },
  {
   "cell_type": "code",
   "execution_count": null,
   "metadata": {},
   "outputs": [
    {
     "data": {
      "image/png": "[encoded data removed]",
      "text/plain": [
       "<Figure size 576x432 with 2 Axes>"
      ]
     },
     "metadata": {
      "needs_background": "light"
     },
     "output_type": "display_data"
    }
   ],
   "source": [
    "# Calculate correlations\n",
    "correlation_matrix = sensor_df.corr()\n",
    "\n",
    "# Visualize the correlation matrix as a heatmap\n",
    "plt.figure(figsize=(8, 6))\n",
    "sns.heatmap(correlation_matrix, annot=True, cmap='coolwarm', fmt=\".2f\")\n",
    "plt.title('Correlation Heatmap')\n",
    "plt.show()"
   ]
  },
  {
   "cell_type": "code",
   "execution_count": null,
   "metadata": {},
   "outputs": [
    {
     "data": {
      "image/png": "[encoded data removed]",
      "text/plain": [
       "<Figure size 432x288 with 1 Axes>"
      ]
     },
     "metadata": {
      "needs_background": "light"
     },
     "output_type": "display_data"
    }
   ],
   "source": [
    "# Age distribution histogram\n",
    "plt.hist(user_df['age'], bins=20, color='lightcoral', edgecolor='black')\n",
    "plt.title('Age Distribution')\n",
    "plt.xlabel('Age')\n",
    "plt.ylabel('Frequency')\n",
    "plt.show()"
   ]
  },
  {
   "cell_type": "markdown",
   "metadata": {},
   "source": [
    "In this project, I successfully transitioned from a wxPython-based project to a Jupyter notebook environment, allowing for a more robust and interactive data analysis experience. I generated synthetic IoT sensor data and conducted a thorough data analysis. The visualizations provided valuable insights into the temperature and humidity patterns recorded by the sensors. Plot A highlighted the distribution of outside temperatures, showing the most common temperature ranges. Plot B illustrated the relationship between outside and room temperatures over time, revealing any correlations or trends. Finally, Plot C offered a comprehensive view of all sensor data attributes, allowing for a detailed analysis of the environmental conditions."
   ]
  }
 ],
 "metadata": {
  "kernelspec": {
   "display_name": "Python 3",
   "language": "python",
   "name": "python3"
  },
  "language_info": {
   "codemirror_mode": {
    "name": "ipython",
    "version": 3
   },
   "file_extension": ".py",
   "mimetype": "text/x-python",
   "name": "python",
   "nbconvert_exporter": "python",
   "pygments_lexer": "ipython3",
   "version": "3.8.5"
  }
 },
 "nbformat": 4,
 "nbformat_minor": 4
}
